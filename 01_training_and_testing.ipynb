{
 "cells": [
  {
   "cell_type": "code",
   "execution_count": 1,
   "id": "c9e53c5b-9124-497a-a9a1-b46a85fb39e5",
   "metadata": {},
   "outputs": [],
   "source": [
    "from sklearn.model_selection import train_test_split\n",
    "import pandas as pd"
   ]
  },
  {
   "cell_type": "code",
   "execution_count": 3,
   "id": "38844bb9-69da-4bb5-81db-63740c9eabed",
   "metadata": {},
   "outputs": [
    {
     "data": {
      "text/html": [
       "<div>\n",
       "<style scoped>\n",
       "    .dataframe tbody tr th:only-of-type {\n",
       "        vertical-align: middle;\n",
       "    }\n",
       "\n",
       "    .dataframe tbody tr th {\n",
       "        vertical-align: top;\n",
       "    }\n",
       "\n",
       "    .dataframe thead th {\n",
       "        text-align: right;\n",
       "    }\n",
       "</style>\n",
       "<table border=\"1\" class=\"dataframe\">\n",
       "  <thead>\n",
       "    <tr style=\"text-align: right;\">\n",
       "      <th></th>\n",
       "      <th>Composicion_A</th>\n",
       "      <th>Composicion_B</th>\n",
       "      <th>Composicion_C</th>\n",
       "      <th>Temperatura</th>\n",
       "      <th>Presion</th>\n",
       "      <th>Eficacia_Reaccion</th>\n",
       "    </tr>\n",
       "  </thead>\n",
       "  <tbody>\n",
       "    <tr>\n",
       "      <th>0</th>\n",
       "      <td>0.374540</td>\n",
       "      <td>0.031429</td>\n",
       "      <td>0.642032</td>\n",
       "      <td>24.134538</td>\n",
       "      <td>1.928115</td>\n",
       "      <td>1</td>\n",
       "    </tr>\n",
       "    <tr>\n",
       "      <th>1</th>\n",
       "      <td>0.950714</td>\n",
       "      <td>0.636410</td>\n",
       "      <td>0.084140</td>\n",
       "      <td>62.508371</td>\n",
       "      <td>9.122976</td>\n",
       "      <td>0</td>\n",
       "    </tr>\n",
       "    <tr>\n",
       "      <th>2</th>\n",
       "      <td>0.731994</td>\n",
       "      <td>0.314356</td>\n",
       "      <td>0.161629</td>\n",
       "      <td>63.250810</td>\n",
       "      <td>5.547271</td>\n",
       "      <td>0</td>\n",
       "    </tr>\n",
       "    <tr>\n",
       "      <th>3</th>\n",
       "      <td>0.598658</td>\n",
       "      <td>0.508571</td>\n",
       "      <td>0.898554</td>\n",
       "      <td>70.994392</td>\n",
       "      <td>8.438117</td>\n",
       "      <td>0</td>\n",
       "    </tr>\n",
       "    <tr>\n",
       "      <th>4</th>\n",
       "      <td>0.156019</td>\n",
       "      <td>0.907566</td>\n",
       "      <td>0.606429</td>\n",
       "      <td>78.087307</td>\n",
       "      <td>3.880446</td>\n",
       "      <td>0</td>\n",
       "    </tr>\n",
       "  </tbody>\n",
       "</table>\n",
       "</div>"
      ],
      "text/plain": [
       "   Composicion_A  Composicion_B  Composicion_C  Temperatura   Presion  \\\n",
       "0       0.374540       0.031429       0.642032    24.134538  1.928115   \n",
       "1       0.950714       0.636410       0.084140    62.508371  9.122976   \n",
       "2       0.731994       0.314356       0.161629    63.250810  5.547271   \n",
       "3       0.598658       0.508571       0.898554    70.994392  8.438117   \n",
       "4       0.156019       0.907566       0.606429    78.087307  3.880446   \n",
       "\n",
       "   Eficacia_Reaccion  \n",
       "0                  1  \n",
       "1                  0  \n",
       "2                  0  \n",
       "3                  0  \n",
       "4                  0  "
      ]
     },
     "execution_count": 3,
     "metadata": {},
     "output_type": "execute_result"
    }
   ],
   "source": [
    "#Cargar dataset\n",
    "df = pd.read_csv('tmp/Ejemplo_03_04_Dataset_Quimico.csv')\n",
    "df.head()"
   ]
  },
  {
   "cell_type": "code",
   "execution_count": 7,
   "id": "8f149772-257d-4f05-8f44-cf7a88dec86b",
   "metadata": {},
   "outputs": [
    {
     "name": "stdout",
     "output_type": "stream",
     "text": [
      "Conjunto de entrenamiento: (70, 5), (70,)\n",
      "Conjunto de entrenamiento: (30, 5), (30,)\n"
     ]
    }
   ],
   "source": [
    "#Definicion de etiquetas\n",
    "X = df.drop('Eficacia_Reaccion', axis=1)\n",
    "y = df['Eficacia_Reaccion']\n",
    "\n",
    "#Division de datos (Entrenamiento: 70% & Prueba:30%\n",
    "X_train, X_test, y_train, y_test = train_test_split(X,y, test_size = 0.3, random_state=42, stratify=y)\n",
    "\n",
    "#Mostrar conjunto de datos\n",
    "print(f'Conjunto de entrenamiento: {X_train.shape}, {y_train.shape}')\n",
    "print(f'Conjunto de entrenamiento: {X_test.shape}, {y_test.shape}')\n",
    "\n",
    "\n",
    "\n"
   ]
  }
 ],
 "metadata": {
  "kernelspec": {
   "display_name": "Python 3 (ipykernel)",
   "language": "python",
   "name": "python3"
  },
  "language_info": {
   "codemirror_mode": {
    "name": "ipython",
    "version": 3
   },
   "file_extension": ".py",
   "mimetype": "text/x-python",
   "name": "python",
   "nbconvert_exporter": "python",
   "pygments_lexer": "ipython3",
   "version": "3.12.5"
  }
 },
 "nbformat": 4,
 "nbformat_minor": 5
}
